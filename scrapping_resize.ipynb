{
 "cells": [
  {
   "cell_type": "code",
   "execution_count": 1,
   "id": "70eff8c0",
   "metadata": {},
   "outputs": [],
   "source": [
    "from selenium import webdriver\n",
    "import os\n",
    "import urllib\n",
    "import time\n",
    "from selenium.webdriver.common.keys import Keys\n",
    "from selenium.webdriver.common.by import By\n",
    "from PIL import Image, ImageChops"
   ]
  },
  {
   "cell_type": "code",
   "execution_count": 2,
   "id": "a6263894",
   "metadata": {},
   "outputs": [],
   "source": [
    "# set up driver \n",
    "\n",
    "PATH = 'chromedriver'"
   ]
  },
  {
   "cell_type": "code",
   "execution_count": 62,
   "id": "357c063f",
   "metadata": {},
   "outputs": [],
   "source": [
    "def google_downloader(search, num_images):\n",
    "    \n",
    "    url_pre = \"https://www.google.com/search?q=\"\n",
    "    url_post = \"&tbm=isch&ved=2ahUKEwiSpqes5_P1AhXwADQIHdQaAn0Q2-cCegQIABAA&oq=house&gs_lcp=CgNpbWcQA1DIFVi6cWCZcmgAcAB4AIABVYgBxgOSAQE2mAEAoAEBqgELZ3dzLXdpei1pbWewAQDAAQE&sclient=img&ei=nFIEYpLoE_CB0PEP1LWI6Ac&bih=802&biw=1707\"\n",
    "    folder = \"train_images\"\n",
    "    \n",
    "    # create folder if does not exists\n",
    "    \n",
    "    if not os.path.exists(folder):\n",
    "        os.mkdir(folder)\n",
    "    \n",
    "    search_url = url_pre + search + url_post\n",
    "    driver = webdriver.Chrome(executable_path=PATH)\n",
    "    driver.get(search_url)\n",
    "    \n",
    "    # scroll the website\n",
    "    scroll = 0 \n",
    "    for i in range(500):\n",
    "        driver.execute_script(\"window.scrollBy(\"+ str(scroll)+ \",+2000);\")\n",
    "        scroll += 2000\n",
    "    \n",
    "    # find elements class \"rg_i\"\n",
    "    elements = driver.find_elements(By.CLASS_NAME,'rg_i')\n",
    "    \n",
    "    # download images\n",
    "    for i,e in enumerate(elements):\n",
    "        if i <= num_images:\n",
    "            src = e.get_attribute('src')\n",
    "            try :\n",
    "                if src != None:\n",
    "                    urllib.request.urlretrieve(src, filename=os.path.join(folder,'image_'+str(i)+'.jpg'))\n",
    "                    print(\"Downloaded image\", search, i+1)\n",
    "            except TypeError:\n",
    "                print('Not Downloaded!') \n",
    "    \n",
    "    driver.quit()\n",
    "    \n",
    "    # clean rectangle images where h>w\n",
    "    images = os.listdir(folder)\n",
    "    print(\"Checking for sizes ...\")\n",
    "    for im in images:\n",
    "        width, height = Image.open(os.path.join(folder,im)).size\n",
    "        if height > width:\n",
    "            print(\"Removing \", im, \" size \", height, width)\n",
    "            os.remove(os.path.join(folder, im))"
   ]
  },
  {
   "cell_type": "code",
   "execution_count": 63,
   "id": "43814a7e",
   "metadata": {},
   "outputs": [
    {
     "name": "stdout",
     "output_type": "stream",
     "text": [
      "Downloaded image houses vancouver 1\n",
      "Downloaded image houses vancouver 2\n",
      "Downloaded image houses vancouver 3\n",
      "Downloaded image houses vancouver 4\n",
      "Downloaded image houses vancouver 5\n",
      "Downloaded image houses vancouver 6\n",
      "Downloaded image houses vancouver 7\n",
      "Downloaded image houses vancouver 8\n",
      "Downloaded image houses vancouver 9\n",
      "Downloaded image houses vancouver 10\n",
      "Downloaded image houses vancouver 11\n",
      "Checking for sizes ...\n"
     ]
    }
   ],
   "source": [
    "google_downloader('houses vancouver', 10)"
   ]
  },
  {
   "cell_type": "code",
   "execution_count": 28,
   "id": "1e7f56c1",
   "metadata": {},
   "outputs": [],
   "source": [
    "def get_num_pixels(filepath):\n",
    "    images = os.listdir(filepath)\n",
    "    for im in images:\n",
    "        width, height = Image.open(os.path.join(filepath,im)).size\n",
    "        print(im, width , \"x\", height)"
   ]
  },
  {
   "cell_type": "code",
   "execution_count": 64,
   "id": "48143260",
   "metadata": {},
   "outputs": [],
   "source": [
    "#get_num_pixels(\"train_images\")"
   ]
  },
  {
   "cell_type": "code",
   "execution_count": 65,
   "id": "4985c2b7",
   "metadata": {},
   "outputs": [
    {
     "name": "stdout",
     "output_type": "stream",
     "text": [
      "Downloaded image houses vancouver 1\n",
      "Downloaded image houses vancouver 2\n",
      "Downloaded image houses vancouver 3\n",
      "Downloaded image houses vancouver 4\n",
      "Downloaded image houses vancouver 5\n",
      "Downloaded image houses vancouver 6\n",
      "Downloaded image houses vancouver 7\n",
      "Downloaded image houses vancouver 8\n",
      "Downloaded image houses vancouver 9\n",
      "Downloaded image houses vancouver 10\n",
      "Downloaded image houses vancouver 11\n",
      "Checking for sizes ...\n",
      "Downloaded image front yard houses 1\n",
      "Downloaded image front yard houses 2\n",
      "Downloaded image front yard houses 3\n",
      "Downloaded image front yard houses 4\n",
      "Downloaded image front yard houses 5\n",
      "Downloaded image front yard houses 6\n",
      "Downloaded image front yard houses 7\n",
      "Downloaded image front yard houses 8\n",
      "Downloaded image front yard houses 9\n",
      "Downloaded image front yard houses 10\n",
      "Downloaded image front yard houses 11\n",
      "Checking for sizes ...\n",
      "Removing  image_2.jpg  size  275 183\n",
      "Removing  image_8.jpg  size  278 181\n",
      "Downloaded image american houses 1\n",
      "Downloaded image american houses 2\n",
      "Downloaded image american houses 3\n",
      "Downloaded image american houses 4\n",
      "Downloaded image american houses 5\n",
      "Downloaded image american houses 6\n",
      "Downloaded image american houses 7\n",
      "Downloaded image american houses 8\n",
      "Downloaded image american houses 9\n",
      "Downloaded image american houses 10\n",
      "Downloaded image american houses 11\n",
      "Checking for sizes ...\n",
      "Removing  image_1.jpg  size  225 224\n",
      "Removing  image_9.jpg  size  253 199\n"
     ]
    }
   ],
   "source": [
    "#search_topics = ['houses vancouver', 'front yard houses', 'american houses']\n",
    "\n",
    "#for search in search_topics:\n",
    "#    google_downloader(search, 10)"
   ]
  },
  {
   "cell_type": "code",
   "execution_count": 41,
   "id": "2478143c",
   "metadata": {},
   "outputs": [],
   "source": [
    "def image_resize(img, width, height):\n",
    "    return img.resize((width, height))"
   ]
  },
  {
   "cell_type": "code",
   "execution_count": 44,
   "id": "53c5476a",
   "metadata": {},
   "outputs": [],
   "source": [
    "# resizing all images from train directory\n",
    "\n",
    "images = os.listdir('train_images')\n",
    "for i in images:\n",
    "    img = image_resize(Image.open(os.path.join('train_images',i)),128,96)\n",
    "    img.save(os.path.join('train_images',i))"
   ]
  },
  {
   "cell_type": "code",
   "execution_count": 45,
   "id": "08069d0c",
   "metadata": {},
   "outputs": [
    {
     "name": "stdout",
     "output_type": "stream",
     "text": [
      "image_0.jpg 128 x 96\n",
      "image_10.jpg 128 x 96\n",
      "image_2.jpg 128 x 96\n",
      "image_3.jpg 128 x 96\n",
      "image_4.jpg 128 x 96\n",
      "image_5.jpg 128 x 96\n",
      "image_6.jpg 128 x 96\n",
      "image_7.jpg 128 x 96\n",
      "image_8.jpg 128 x 96\n"
     ]
    }
   ],
   "source": [
    "get_num_pixels('train_images')"
   ]
  },
  {
   "cell_type": "code",
   "execution_count": 15,
   "id": "d28330a6",
   "metadata": {},
   "outputs": [],
   "source": [
    "# Removing white borders\n",
    "def trim(im):\n",
    "    bg = Image.new(im.mode, im.size, im.getpixel((0,0)))\n",
    "    diff = ImageChops.difference(im, bg)\n",
    "    diff = ImageChops.add(diff, diff, 2.0, -100)\n",
    "    bbox = diff.getbbox()\n",
    "    if bbox:\n",
    "        return im.crop(bbox)\n",
    "\n",
    "    \n",
    "images = os.listdir(\"check\")\n",
    "for image in images:\n",
    "    im = Image.open(os.path.join('check', image))\n",
    "    trim(im).save(os.path.join('check', image))"
   ]
  },
  {
   "cell_type": "code",
   "execution_count": null,
   "id": "2099cc81",
   "metadata": {},
   "outputs": [],
   "source": []
  },
  {
   "cell_type": "code",
   "execution_count": null,
   "id": "f343ff1b",
   "metadata": {},
   "outputs": [],
   "source": []
  }
 ],
 "metadata": {
  "kernelspec": {
   "display_name": "Python [conda env:dsci572env]",
   "language": "python",
   "name": "conda-env-dsci572env-py"
  },
  "language_info": {
   "codemirror_mode": {
    "name": "ipython",
    "version": 3
   },
   "file_extension": ".py",
   "mimetype": "text/x-python",
   "name": "python",
   "nbconvert_exporter": "python",
   "pygments_lexer": "ipython3",
   "version": "3.8.12"
  }
 },
 "nbformat": 4,
 "nbformat_minor": 5
}
